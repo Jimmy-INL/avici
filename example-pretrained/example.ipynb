{
 "cells": [
  {
   "cell_type": "markdown",
   "id": "5e361100",
   "metadata": {
    "id": "5e361100"
   },
   "source": [
    "# Example: Inferring causal structure using a pretrained AVICI model"
   ]
  },
  {
   "cell_type": "markdown",
   "id": "eb6b52aa",
   "metadata": {
    "id": "eb6b52aa"
   },
   "source": [
    "Amortized variational inference for causal discovery (AVICI) allows inferring causal structure from data based on a **simulator** of the domain of interest. \n",
    "By training a neural network to infer structure from the simulated data, it can acquire realistic inductive biases from prior knowledge that is hard to cast as score functions or conditional independence tests.\n",
    "\n",
    "\n",
    "In this example, we **download a pretrained model checkpoint and perform predictions** for a simulated dataset. Inferring causal structure with a pretrained AVICI model takes only a few seconds since it amounts to one forward pass through the neural network."
   ]
  },
  {
   "cell_type": "markdown",
   "id": "de3d0dfc",
   "metadata": {
    "id": "de3d0dfc"
   },
   "source": [
    "Setup for Google Colab (Skip this if running locally).\n"
   ]
  },
  {
   "cell_type": "code",
   "execution_count": null,
   "id": "633bc20e",
   "metadata": {
    "id": "633bc20e"
   },
   "outputs": [],
   "source": [
    "%pip install --quiet avici"
   ]
  },
  {
   "cell_type": "markdown",
   "id": "ioyAI598FK0T",
   "metadata": {
    "id": "ioyAI598FK0T"
   },
   "source": [
    "**Simulate some data:**"
   ]
  },
  {
   "cell_type": "code",
   "execution_count": null,
   "id": "e5e8370c",
   "metadata": {
    "id": "e5e8370c",
    "scrolled": true
   },
   "outputs": [],
   "source": [
    "import avici\n",
    "from avici import simulate_data\n",
    "\n",
    "# g: [d, d] causal graph of `d` variables\n",
    "# x: [n, d] data matrix containing `n` observations of the `d` variables\n",
    "# interv: [n, d] binary matrix indicating which nodes were intervened upon\n",
    "g, x, interv = simulate_data(n=100, n_interv=20, d=20, domain=\"linear-gaussian-scm\")"
   ]
  },
  {
   "cell_type": "markdown",
   "id": "TcS0FHyqFUuq",
   "metadata": {
    "id": "TcS0FHyqFUuq"
   },
   "source": [
    "**Download and initialize a pretrained model:**"
   ]
  },
  {
   "cell_type": "code",
   "execution_count": null,
   "id": "RO3q2jMpFW__",
   "metadata": {
    "id": "RO3q2jMpFW__"
   },
   "outputs": [],
   "source": [
    "# load pretrained model\n",
    "model = avici.load_pretrained(download=\"linear\")"
   ]
  },
  {
   "cell_type": "markdown",
   "id": "6DGpSt1AFlk4",
   "metadata": {
    "id": "6DGpSt1AFlk4"
   },
   "source": [
    "**Predict the causal structure:**"
   ]
  },
  {
   "cell_type": "code",
   "execution_count": null,
   "id": "PJttZEhyFlk4",
   "metadata": {
    "id": "PJttZEhyFlk4"
   },
   "outputs": [],
   "source": [
    "%%time\n",
    "# g: [d, d] predicted edge probabilities of the causal graph\n",
    "g_prob = model(x=x, interv=interv)"
   ]
  },
  {
   "cell_type": "code",
   "execution_count": null,
   "id": "bf6bdf4f",
   "metadata": {
    "id": "bf6bdf4f"
   },
   "outputs": [],
   "source": [
    "from avici.metrics import shd\n",
    "\n",
    "# compute SHD and visualize predictions\n",
    "g_pred = (g_prob > 0.5).astype(int)\n",
    "print(f\"SHD:\\n{shd(g, g_pred)}\")\n",
    "\n",
    "avici.visualize(g_prob, true=g)"
   ]
  },
  {
   "cell_type": "code",
   "execution_count": null,
   "id": "4baceaf1",
   "metadata": {},
   "outputs": [],
   "source": []
  }
 ],
 "metadata": {
  "colab": {
   "provenance": []
  },
  "kernelspec": {
   "display_name": "Python 3 (ipykernel)",
   "language": "python",
   "name": "python3"
  },
  "language_info": {
   "codemirror_mode": {
    "name": "ipython",
    "version": 3
   },
   "file_extension": ".py",
   "mimetype": "text/x-python",
   "name": "python",
   "nbconvert_exporter": "python",
   "pygments_lexer": "ipython3",
   "version": "3.10.6"
  }
 },
 "nbformat": 4,
 "nbformat_minor": 5
}
