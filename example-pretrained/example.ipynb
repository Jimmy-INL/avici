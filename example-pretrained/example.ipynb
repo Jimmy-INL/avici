{
 "cells": [
  {
   "cell_type": "markdown",
   "id": "5e361100",
   "metadata": {
    "id": "5e361100"
   },
   "source": [
    "# Example: Inferring causal structure using a pretrained AVICI model"
   ]
  },
  {
   "cell_type": "markdown",
   "id": "eb6b52aa",
   "metadata": {
    "id": "eb6b52aa"
   },
   "source": [
    "Amortized variational inference for causal discovery (AVICI) allows inferring causal structure from data based on a **simulator** of the domain of interest. \n",
    "By training a neural network to infer structure from the simulated data, it can acquire realistic inductive biases from prior knowledge that is hard to cast as score functions or conditional independence tests.\n",
    "\n",
    "\n",
    "In this example, we **download a pretrained model checkpoint and perform predictions** for a simulated dataset. Inferring causal structure with a pretrained AVICI model takes only a few seconds since it amounts to one forward pass through the neural network."
   ]
  },
  {
   "cell_type": "markdown",
   "id": "de3d0dfc",
   "metadata": {
    "id": "de3d0dfc"
   },
   "source": [
    "Setup for Google Colab (Skip this if running locally).\n"
   ]
  },
  {
   "cell_type": "code",
   "execution_count": 1,
   "id": "633bc20e",
   "metadata": {
    "id": "633bc20e"
   },
   "outputs": [],
   "source": [
    "%pip install --quiet avici"
   ]
  },
  {
   "cell_type": "markdown",
   "id": "ioyAI598FK0T",
   "metadata": {
    "id": "ioyAI598FK0T"
   },
   "source": [
    "**Simulate some data:**\n",
    "\n",
    "The function `simulate_data` accepts the following most important arguments:\n",
    "- **d** (int) -- number of variables in the system\n",
    "- **n** (int) -- number of observational data points to be sampled\n",
    "- **n_interv** (int) -- number of interventional data points to be sampled\n",
    "- **domain** (str) -- specifier of domain to be simulated. Currently implemented options: `linear-gaussian-scm`, `rff-cauchy-scm`, `gene-ecoli` (all `.yaml` files inside `avici.config.examples`)\n",
    "\n",
    "The function returns a 3-tuple of\n",
    "- **g** -- `[d, d]` causal graph of `d` variables\n",
    "- **x** -- `[n + n_interv, d]` data matrix containing `n + n_interv` observations of the `d` variables\n",
    "- **interv** -- `[n + n_interv, d]` binary matrix indicating which nodes were intervened upon"
   ]
  },
  {
   "cell_type": "code",
   "execution_count": 2,
   "id": "e5e8370c",
   "metadata": {
    "id": "e5e8370c",
    "scrolled": true
   },
   "outputs": [],
   "source": [
    "import avici\n",
    "from avici import simulate_data\n",
    "\n",
    "# simulate data\n",
    "g, x, interv = simulate_data(d=20, n=50, n_interv=10, domain=\"linear-gaussian-scm\")"
   ]
  },
  {
   "cell_type": "markdown",
   "id": "TcS0FHyqFUuq",
   "metadata": {
    "id": "TcS0FHyqFUuq"
   },
   "source": [
    "**Download and initialize a pretrained model:**\n",
    "\n",
    "Based on our paper, we provide the pretrained weights for models trained on three data-generating processes, which are specified by the `download` argument:\n",
    "\n",
    "- `linear`: SCM data with linear causal mechanisms\n",
    "- `nonlinear`: SCM data with nonlinear causal mechanisms drawn from GPs with squared-exponential kernel (defined via random Fourier features)\n",
    "- `sergio`: Synthetic scRNA-seq gene expression data using the SERGIO [simulator](https://github.com/PayamDiba/SERGIO) by [Dibaeinia and Sinha, (2020)](https://www.cell.com/cell-systems/pdf/S2405-4712(20)30287-8.pdf)"
   ]
  },
  {
   "cell_type": "code",
   "execution_count": 3,
   "id": "RO3q2jMpFW__",
   "metadata": {
    "id": "RO3q2jMpFW__"
   },
   "outputs": [
    {
     "name": "stdout",
     "output_type": "stream",
     "text": [
      "Downloading checkpoint for `linear`... \n"
     ]
    },
    {
     "data": {
      "text/plain": "  0%|          | 184k/60.4M [00:00<00:37, 1.69MB/s]",
      "application/vnd.jupyter.widget-view+json": {
       "version_major": 2,
       "version_minor": 0,
       "model_id": "f73d47055f62467285c0940054a49ee0"
      }
     },
     "metadata": {},
     "output_type": "display_data"
    }
   ],
   "source": [
    "# load pretrained model\n",
    "model = avici.load_pretrained(download=\"linear\")"
   ]
  },
  {
   "cell_type": "markdown",
   "id": "6DGpSt1AFlk4",
   "metadata": {
    "id": "6DGpSt1AFlk4"
   },
   "source": [
    "**Predict the causal structure:**\n",
    "\n",
    "Calling `model` as obtained from `avici.load_pretrained` predicts the `[d, d]` matrix of probabilities for each possible edge in the causal graph and accepts the following arguments:\n",
    "\n",
    "- **x** (ndarray) -- real-valued data matrix of shape `[n, d]`\n",
    "- **interv** (ndarray, optional) --  binary matrix of the same shape as **x** with **interv[i,j] = 1** iff node **j** was intervened upon in observation **i**. (Default is `None`)\n",
    "- **return_probs** (bool, optional) -- whether to return probability estimates for each edge. `False` simply clips the predictions to 0 and 1 using a decision threshold of 0.5. (Default is `True` as the computational cost is the same.)\n"
   ]
  },
  {
   "cell_type": "code",
   "execution_count": 4,
   "id": "PJttZEhyFlk4",
   "metadata": {
    "id": "PJttZEhyFlk4"
   },
   "outputs": [
    {
     "name": "stdout",
     "output_type": "stream",
     "text": [
      "CPU times: user 8.69 s, sys: 147 ms, total: 8.84 s\n",
      "Wall time: 8.53 s\n"
     ]
    }
   ],
   "source": [
    "%%time\n",
    "# g: [d, d] predicted edge probabilities of the causal graph\n",
    "g_prob = model(x=x, interv=interv)"
   ]
  },
  {
   "cell_type": "code",
   "execution_count": 5,
   "id": "bf6bdf4f",
   "metadata": {
    "id": "bf6bdf4f"
   },
   "outputs": [
    {
     "data": {
      "text/plain": "<Figure size 670.82x335.41 with 2 Axes>",
      "image/png": "[encoded data removed]"
     },
     "metadata": {},
     "output_type": "display_data"
    },
    {
     "name": "stdout",
     "output_type": "stream",
     "text": [
      "SHD:\n",
      "13\n"
     ]
    }
   ],
   "source": [
    "from avici.metrics import shd\n",
    "\n",
    "# visualize predictions and compute SHD\n",
    "avici.visualize(g_prob, true=g, size=0.75)\n",
    "print(f\"SHD:\\n{shd(g, (g_prob > 0.5).astype(int))}\")"
   ]
  },
  {
   "cell_type": "code",
   "execution_count": 5,
   "id": "4baceaf1",
   "metadata": {},
   "outputs": [],
   "source": []
  }
 ],
 "metadata": {
  "colab": {
   "provenance": []
  },
  "kernelspec": {
   "display_name": "Python 3 (ipykernel)",
   "language": "python",
   "name": "python3"
  },
  "language_info": {
   "codemirror_mode": {
    "name": "ipython",
    "version": 3
   },
   "file_extension": ".py",
   "mimetype": "text/x-python",
   "name": "python",
   "nbconvert_exporter": "python",
   "pygments_lexer": "ipython3",
   "version": "3.10.6"
  }
 },
 "nbformat": 4,
 "nbformat_minor": 5
}